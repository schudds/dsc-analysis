{
 "cells": [
  {
   "cell_type": "markdown",
   "metadata": {},
   "source": [
    "# DSC/DCE MRI ANALYSIS"
   ]
  },
  {
   "cell_type": "markdown",
   "metadata": {},
   "source": [
    "### This is \"worked example\"  walking through an example pipeline for DSC/DCE MRI analysis of a dual echo EPI acquisition"
   ]
  },
  {
   "cell_type": "markdown",
   "metadata": {},
   "source": [
    "### Notes for notebook:\n",
    "#####  - Insert Units for all variables at initializaqtion\n",
    "#####  - Provide just a vector dataset to begin with as an example dataset\n",
    "#####  - Include comments for relevant code instances : for example T1_0 values are assumed from literature and out of scope for this purpose\n"
   ]
  },
  {
   "cell_type": "markdown",
   "metadata": {},
   "source": [
    "### 1. Import all the necessary packages"
   ]
  },
  {
   "cell_type": "code",
   "execution_count": 1,
   "metadata": {},
   "outputs": [],
   "source": [
    "import os\n",
    "import numpy as np\n",
    "import scipy.io\n",
    "from matplotlib import pyplot as plt\n",
    "from scipy.optimize import curve_fit\n",
    "from numpy.linalg import svd\n",
    "%matplotlib inline"
   ]
  },
  {
   "cell_type": "markdown",
   "metadata": {},
   "source": [
    "### 2. Load Data, define imaging parameters, set perfusion constants\n",
    "In this example, we assume a dual-echo EPI acquistion to demonstrate how both DSC and DCE parameters may be computed using the most common methods. \n",
    "\n",
    "#### 2.1 Define known imaging parameters shortest echo time ($TE_1$ \\[sec\\]), longest echo time ($TE_2$ \\[sec\\]), TR [sec], and flip angle [degrees]."
   ]
  },
  {
   "cell_type": "code",
   "execution_count": 32,
   "metadata": {},
   "outputs": [
    {
     "name": "stdout",
     "output_type": "stream",
     "text": [
      "()\n"
     ]
    }
   ],
   "source": [
    "TE1 = signaltimecurves['TE1'] # in seconds\n",
    "TE2 = signaltimecurves['TE2'] # in seconds\n",
    "TR = np.squeeze(signaltimecurves['TR'])   # in seconds\n",
    "flip = signaltimecurves['flip'] # in degrees\n",
    "\n",
    "print(TR.shape)\n",
    "\n",
    "nt = 121; # number of time points\n",
    "timeArray = TR*np.arange(nt)\n"
   ]
  },
  {
   "cell_type": "markdown",
   "metadata": {},
   "source": [
    "#### 2.2 Load MR signal intensity $SI_t$ time curves, compute $SI_t$ at TE = 0, and load a population-based AIF concentration curves ($C_t$).\n",
    "From the measured MR data, user needs to determine the baseline (precontrast) time points of these curves."
   ]
  },
  {
   "cell_type": "code",
   "execution_count": 33,
   "metadata": {},
   "outputs": [
    {
     "ename": "FileNotFoundError",
     "evalue": "[Errno 2] No such file or directory: 'signaltimecurves4.mat'",
     "output_type": "error",
     "traceback": [
      "\u001b[0;31m---------------------------------------------------------------------------\u001b[0m",
      "\u001b[0;31mFileNotFoundError\u001b[0m                         Traceback (most recent call last)",
      "\u001b[0;32m~/miniconda3/lib/python3.7/site-packages/scipy/io/matlab/mio.py\u001b[0m in \u001b[0;36m_open_file\u001b[0;34m(file_like, appendmat, mode)\u001b[0m\n\u001b[1;32m     38\u001b[0m     \u001b[0;32mtry\u001b[0m\u001b[0;34m:\u001b[0m\u001b[0;34m\u001b[0m\u001b[0;34m\u001b[0m\u001b[0m\n\u001b[0;32m---> 39\u001b[0;31m         \u001b[0;32mreturn\u001b[0m \u001b[0mopen\u001b[0m\u001b[0;34m(\u001b[0m\u001b[0mfile_like\u001b[0m\u001b[0;34m,\u001b[0m \u001b[0mmode\u001b[0m\u001b[0;34m)\u001b[0m\u001b[0;34m,\u001b[0m \u001b[0;32mTrue\u001b[0m\u001b[0;34m\u001b[0m\u001b[0;34m\u001b[0m\u001b[0m\n\u001b[0m\u001b[1;32m     40\u001b[0m     \u001b[0;32mexcept\u001b[0m \u001b[0mIOError\u001b[0m\u001b[0;34m:\u001b[0m\u001b[0;34m\u001b[0m\u001b[0;34m\u001b[0m\u001b[0m\n",
      "\u001b[0;31mFileNotFoundError\u001b[0m: [Errno 2] No such file or directory: 'signaltimecurves4.mat'",
      "\nDuring handling of the above exception, another exception occurred:\n",
      "\u001b[0;31mFileNotFoundError\u001b[0m                         Traceback (most recent call last)",
      "\u001b[0;32m<ipython-input-33-c115c8681db9>\u001b[0m in \u001b[0;36m<module>\u001b[0;34m\u001b[0m\n\u001b[0;32m----> 1\u001b[0;31m \u001b[0msignaltimecurves\u001b[0m \u001b[0;34m=\u001b[0m \u001b[0mscipy\u001b[0m\u001b[0;34m.\u001b[0m\u001b[0mio\u001b[0m\u001b[0;34m.\u001b[0m\u001b[0mloadmat\u001b[0m\u001b[0;34m(\u001b[0m\u001b[0;34m'signaltimecurves4.mat'\u001b[0m\u001b[0;34m)\u001b[0m\u001b[0;34m\u001b[0m\u001b[0;34m\u001b[0m\u001b[0m\n\u001b[0m\u001b[1;32m      2\u001b[0m \u001b[0;34m\u001b[0m\u001b[0m\n\u001b[1;32m      3\u001b[0m \u001b[0mtumor_SIt\u001b[0m \u001b[0;34m=\u001b[0m \u001b[0msignaltimecurves\u001b[0m\u001b[0;34m[\u001b[0m\u001b[0;34m'tumor_SIt'\u001b[0m\u001b[0;34m]\u001b[0m \u001b[0;31m#measured tumor signal time curves\u001b[0m\u001b[0;34m\u001b[0m\u001b[0;34m\u001b[0m\u001b[0m\n\u001b[1;32m      4\u001b[0m \u001b[0mNAWM_SIt\u001b[0m \u001b[0;34m=\u001b[0m \u001b[0msignaltimecurves\u001b[0m\u001b[0;34m[\u001b[0m\u001b[0;34m'NAWM_SIt'\u001b[0m\u001b[0;34m]\u001b[0m \u001b[0;31m#measured NAWM signal time curves\u001b[0m\u001b[0;34m\u001b[0m\u001b[0;34m\u001b[0m\u001b[0m\n\u001b[1;32m      5\u001b[0m \u001b[0mAIF_Ct\u001b[0m \u001b[0;34m=\u001b[0m \u001b[0msignaltimecurves\u001b[0m\u001b[0;34m[\u001b[0m\u001b[0;34m'AIF_Ct'\u001b[0m\u001b[0;34m]\u001b[0m \u001b[0;31m#population based AIF NEED TO ADD CITATION LCB\u001b[0m\u001b[0;34m\u001b[0m\u001b[0;34m\u001b[0m\u001b[0m\n",
      "\u001b[0;32m~/miniconda3/lib/python3.7/site-packages/scipy/io/matlab/mio.py\u001b[0m in \u001b[0;36mloadmat\u001b[0;34m(file_name, mdict, appendmat, **kwargs)\u001b[0m\n\u001b[1;32m    220\u001b[0m     \"\"\"\n\u001b[1;32m    221\u001b[0m     \u001b[0mvariable_names\u001b[0m \u001b[0;34m=\u001b[0m \u001b[0mkwargs\u001b[0m\u001b[0;34m.\u001b[0m\u001b[0mpop\u001b[0m\u001b[0;34m(\u001b[0m\u001b[0;34m'variable_names'\u001b[0m\u001b[0;34m,\u001b[0m \u001b[0;32mNone\u001b[0m\u001b[0;34m)\u001b[0m\u001b[0;34m\u001b[0m\u001b[0;34m\u001b[0m\u001b[0m\n\u001b[0;32m--> 222\u001b[0;31m     \u001b[0;32mwith\u001b[0m \u001b[0m_open_file_context\u001b[0m\u001b[0;34m(\u001b[0m\u001b[0mfile_name\u001b[0m\u001b[0;34m,\u001b[0m \u001b[0mappendmat\u001b[0m\u001b[0;34m)\u001b[0m \u001b[0;32mas\u001b[0m \u001b[0mf\u001b[0m\u001b[0;34m:\u001b[0m\u001b[0;34m\u001b[0m\u001b[0;34m\u001b[0m\u001b[0m\n\u001b[0m\u001b[1;32m    223\u001b[0m         \u001b[0mMR\u001b[0m\u001b[0;34m,\u001b[0m \u001b[0m_\u001b[0m \u001b[0;34m=\u001b[0m \u001b[0mmat_reader_factory\u001b[0m\u001b[0;34m(\u001b[0m\u001b[0mf\u001b[0m\u001b[0;34m,\u001b[0m \u001b[0;34m**\u001b[0m\u001b[0mkwargs\u001b[0m\u001b[0;34m)\u001b[0m\u001b[0;34m\u001b[0m\u001b[0;34m\u001b[0m\u001b[0m\n\u001b[1;32m    224\u001b[0m         \u001b[0mmatfile_dict\u001b[0m \u001b[0;34m=\u001b[0m \u001b[0mMR\u001b[0m\u001b[0;34m.\u001b[0m\u001b[0mget_variables\u001b[0m\u001b[0;34m(\u001b[0m\u001b[0mvariable_names\u001b[0m\u001b[0;34m)\u001b[0m\u001b[0;34m\u001b[0m\u001b[0;34m\u001b[0m\u001b[0m\n",
      "\u001b[0;32m~/miniconda3/lib/python3.7/contextlib.py\u001b[0m in \u001b[0;36m__enter__\u001b[0;34m(self)\u001b[0m\n\u001b[1;32m    110\u001b[0m         \u001b[0;32mdel\u001b[0m \u001b[0mself\u001b[0m\u001b[0;34m.\u001b[0m\u001b[0margs\u001b[0m\u001b[0;34m,\u001b[0m \u001b[0mself\u001b[0m\u001b[0;34m.\u001b[0m\u001b[0mkwds\u001b[0m\u001b[0;34m,\u001b[0m \u001b[0mself\u001b[0m\u001b[0;34m.\u001b[0m\u001b[0mfunc\u001b[0m\u001b[0;34m\u001b[0m\u001b[0;34m\u001b[0m\u001b[0m\n\u001b[1;32m    111\u001b[0m         \u001b[0;32mtry\u001b[0m\u001b[0;34m:\u001b[0m\u001b[0;34m\u001b[0m\u001b[0;34m\u001b[0m\u001b[0m\n\u001b[0;32m--> 112\u001b[0;31m             \u001b[0;32mreturn\u001b[0m \u001b[0mnext\u001b[0m\u001b[0;34m(\u001b[0m\u001b[0mself\u001b[0m\u001b[0;34m.\u001b[0m\u001b[0mgen\u001b[0m\u001b[0;34m)\u001b[0m\u001b[0;34m\u001b[0m\u001b[0;34m\u001b[0m\u001b[0m\n\u001b[0m\u001b[1;32m    113\u001b[0m         \u001b[0;32mexcept\u001b[0m \u001b[0mStopIteration\u001b[0m\u001b[0;34m:\u001b[0m\u001b[0;34m\u001b[0m\u001b[0;34m\u001b[0m\u001b[0m\n\u001b[1;32m    114\u001b[0m             \u001b[0;32mraise\u001b[0m \u001b[0mRuntimeError\u001b[0m\u001b[0;34m(\u001b[0m\u001b[0;34m\"generator didn't yield\"\u001b[0m\u001b[0;34m)\u001b[0m \u001b[0;32mfrom\u001b[0m \u001b[0;32mNone\u001b[0m\u001b[0;34m\u001b[0m\u001b[0;34m\u001b[0m\u001b[0m\n",
      "\u001b[0;32m~/miniconda3/lib/python3.7/site-packages/scipy/io/matlab/mio.py\u001b[0m in \u001b[0;36m_open_file_context\u001b[0;34m(file_like, appendmat, mode)\u001b[0m\n\u001b[1;32m     15\u001b[0m \u001b[0;34m@\u001b[0m\u001b[0mcontextmanager\u001b[0m\u001b[0;34m\u001b[0m\u001b[0;34m\u001b[0m\u001b[0m\n\u001b[1;32m     16\u001b[0m \u001b[0;32mdef\u001b[0m \u001b[0m_open_file_context\u001b[0m\u001b[0;34m(\u001b[0m\u001b[0mfile_like\u001b[0m\u001b[0;34m,\u001b[0m \u001b[0mappendmat\u001b[0m\u001b[0;34m,\u001b[0m \u001b[0mmode\u001b[0m\u001b[0;34m=\u001b[0m\u001b[0;34m'rb'\u001b[0m\u001b[0;34m)\u001b[0m\u001b[0;34m:\u001b[0m\u001b[0;34m\u001b[0m\u001b[0;34m\u001b[0m\u001b[0m\n\u001b[0;32m---> 17\u001b[0;31m     \u001b[0mf\u001b[0m\u001b[0;34m,\u001b[0m \u001b[0mopened\u001b[0m \u001b[0;34m=\u001b[0m \u001b[0m_open_file\u001b[0m\u001b[0;34m(\u001b[0m\u001b[0mfile_like\u001b[0m\u001b[0;34m,\u001b[0m \u001b[0mappendmat\u001b[0m\u001b[0;34m,\u001b[0m \u001b[0mmode\u001b[0m\u001b[0;34m)\u001b[0m\u001b[0;34m\u001b[0m\u001b[0;34m\u001b[0m\u001b[0m\n\u001b[0m\u001b[1;32m     18\u001b[0m     \u001b[0;32mtry\u001b[0m\u001b[0;34m:\u001b[0m\u001b[0;34m\u001b[0m\u001b[0;34m\u001b[0m\u001b[0m\n\u001b[1;32m     19\u001b[0m         \u001b[0;32myield\u001b[0m \u001b[0mf\u001b[0m\u001b[0;34m\u001b[0m\u001b[0;34m\u001b[0m\u001b[0m\n",
      "\u001b[0;32m~/miniconda3/lib/python3.7/site-packages/scipy/io/matlab/mio.py\u001b[0m in \u001b[0;36m_open_file\u001b[0;34m(file_like, appendmat, mode)\u001b[0m\n\u001b[1;32m     43\u001b[0m             \u001b[0;32mif\u001b[0m \u001b[0mappendmat\u001b[0m \u001b[0;32mand\u001b[0m \u001b[0;32mnot\u001b[0m \u001b[0mfile_like\u001b[0m\u001b[0;34m.\u001b[0m\u001b[0mendswith\u001b[0m\u001b[0;34m(\u001b[0m\u001b[0;34m'.mat'\u001b[0m\u001b[0;34m)\u001b[0m\u001b[0;34m:\u001b[0m\u001b[0;34m\u001b[0m\u001b[0;34m\u001b[0m\u001b[0m\n\u001b[1;32m     44\u001b[0m                 \u001b[0mfile_like\u001b[0m \u001b[0;34m+=\u001b[0m \u001b[0;34m'.mat'\u001b[0m\u001b[0;34m\u001b[0m\u001b[0;34m\u001b[0m\u001b[0m\n\u001b[0;32m---> 45\u001b[0;31m             \u001b[0;32mreturn\u001b[0m \u001b[0mopen\u001b[0m\u001b[0;34m(\u001b[0m\u001b[0mfile_like\u001b[0m\u001b[0;34m,\u001b[0m \u001b[0mmode\u001b[0m\u001b[0;34m)\u001b[0m\u001b[0;34m,\u001b[0m \u001b[0;32mTrue\u001b[0m\u001b[0;34m\u001b[0m\u001b[0;34m\u001b[0m\u001b[0m\n\u001b[0m\u001b[1;32m     46\u001b[0m         \u001b[0;32melse\u001b[0m\u001b[0;34m:\u001b[0m\u001b[0;34m\u001b[0m\u001b[0;34m\u001b[0m\u001b[0m\n\u001b[1;32m     47\u001b[0m             \u001b[0;32mraise\u001b[0m \u001b[0mIOError\u001b[0m\u001b[0;34m(\u001b[0m\u001b[0;34m'Reader needs file name or open file-like object'\u001b[0m\u001b[0;34m)\u001b[0m\u001b[0;34m\u001b[0m\u001b[0;34m\u001b[0m\u001b[0m\n",
      "\u001b[0;31mFileNotFoundError\u001b[0m: [Errno 2] No such file or directory: 'signaltimecurves4.mat'"
     ]
    }
   ],
   "source": [
    "signaltimecurves = scipy.io.loadmat('signaltimecurves4.mat')\n",
    "\n",
    "tumor_SIt = signaltimecurves['tumor_SIt'] #measured tumor signal time curves\n",
    "NAWM_SIt = signaltimecurves['NAWM_SIt'] #measured NAWM signal time curves\n",
    "AIF_Ct = signaltimecurves['AIF_Ct'] #population based AIF NEED TO ADD CITATION LCB\n",
    "AIF_SIt = signaltimecurves['AIF_SIt']\n",
    "\n",
    "print(tumor_SIt[0,:].shape)\n",
    "\n",
    "basepts = [0, 30] #define pre-contrast baseline points\n",
    "\n",
    "#Find SIt at TE=0 (correcting for T2* effects) for DCE analysis done in section 4\n",
    "# move code here\n",
    "\n",
    "#Plot Signal curves\n",
    "plt.plot(timeArray, tumor_SIt[0,:], label='TE1')\n",
    "plt.plot(timeArray, tumor_SIt[1,:], label='TE2')\n",
    "#plt.plot(timeArray, np.transpose(tumor_SIt[0,:]),label='TE1')\n",
    "#plt.plot(np.transpose(tumor_SIt[1,:]),label='TE2')\n",
    "#also plot SIt at TE=0\n",
    "plt.xlabel('Time Points', fontsize=16)\n",
    "plt.ylabel('Signal Magnitude [A.U.]', fontsize=16)\n",
    "plt.legend()\n",
    "plt.show()"
   ]
  },
  {
   "cell_type": "markdown",
   "metadata": {},
   "source": [
    "In the above graph, notice the conventional signal drop due to the arrival of gadolinium at $TE_2$. With a shorter $TE_1$, this signal drop is not observed. Since this is a multi-echo acquisition, the DCE curve can be corrected for T2* effects through extrapolating back to a $TE_0$ (0 sec). See that the signal magnitude of this curve is higher than both $TE_1$ and $TE_2$.\n"
   ]
  },
  {
   "cell_type": "markdown",
   "metadata": {},
   "source": [
    "#### 2.3 Define <em>a priori</em> perfusion constants for the DCE analysis: precontrast T1 (sec), longitudinal relaxivity $r_1$, hematocrit factor <em>H</em>"
   ]
  },
  {
   "cell_type": "code",
   "execution_count": 4,
   "metadata": {},
   "outputs": [],
   "source": [
    "tumor_T1 = signaltimecurves['tumor_T1'] # measured in separate scan before perfusion scan\n",
    "NAWM_T1 = signaltimecurves['NAWM_T1'] # measured in separate scan before perfusion scan\n",
    "\n",
    "r1 = 3.3  # longitudinal relaxivity of Gd-DTPA at 3T [1/mM.s], defined by literature\n",
    "H = 0.71  # defined by literature\n",
    "nx = ny = nz = 1"
   ]
  },
  {
   "cell_type": "markdown",
   "metadata": {},
   "source": [
    "### 3. Do DSC Perfusion Analysis (CBV, CBF, MTT)"
   ]
  },
  {
   "cell_type": "markdown",
   "metadata": {},
   "source": [
    "#### 3.1 Calculate $\\Delta R_2^*$ curves \n",
    "- $\\Delta R_2^*$ time curves can be calculated for single echo acquisitions as:<br>\n",
    "<center>$\\Delta R_2^*(t)$ = $\\frac{-1}{TE}ln(\\frac{S(t)}{S_0})$,</center>\n",
    "where $S_0$ is the average baseline signal prior to bolus arrival.<br> \n",
    "- $\\Delta R_2^*$ time curves can be calculated for dual echo acquisitions as:<br>\n",
    "<center>$\\Delta R_2^*(t)$ = $\\frac{-1}{\\Delta TE}ln(\\frac{S_{TE1}(t)/S_{0, TE1}}{S_{TE2}(t)/S_{0, TE2}})$,</center><br>\n",
    "where $\\Delta TE$ is the difference between the echo times, and $S_{0,TEx}$ is the average baseline signal prior to contrast arrival for each echo time (x = 1,2).\n"
   ]
  },
  {
   "cell_type": "code",
   "execution_count": 5,
   "metadata": {},
   "outputs": [
    {
     "data": {
      "text/plain": [
       "<matplotlib.legend.Legend at 0x7fd461d33110>"
      ]
     },
     "execution_count": 5,
     "metadata": {},
     "output_type": "execute_result"
    },
    {
     "data": {
      "image/png": "[encoded data removed]",
      "text/plain": [
       "<Figure size 432x288 with 1 Axes>"
      ]
     },
     "metadata": {
      "needs_background": "light"
     },
     "output_type": "display_data"
    }
   ],
   "source": [
    "[ne,dyn] = np.shape(tumor_SIt)\n",
    "dR2s_tumor_TE1 = np.zeros([nx*ny*nz,dyn])\n",
    "dR2s_tumor_TE2 = np.zeros([nx*ny*nz,dyn])\n",
    "dR2s_tumor_DE = np.zeros([nx*ny*nz,dyn])\n",
    "dR2s_tumor_BSW = np.zeros([nx*ny*nz,dyn])\n",
    "\n",
    "dR2s_NAWM = np.zeros([nx*ny*nz,dyn])\n",
    "dR2s_AIF = np.zeros([nx*ny*nz,dyn])\n",
    "dR2s_AIF_quadratic = np.zeros([nx*ny*nz,dyn])\n",
    "\n",
    "# Find average precontrast, baseline signal (S0) \n",
    "S0_tumor_TE1 = np.nanmean(tumor_SIt[0,basepts[0]:basepts[1]],axis=-1)\n",
    "S0_tumor_TE1 = np.repeat(np.expand_dims(S0_tumor_TE1,axis=0),dyn,axis=0)\n",
    "S0_tumor_TE2 = np.nanmean(tumor_SIt[1,basepts[0]:basepts[1]],axis=-1)\n",
    "S0_tumor_TE2 = np.repeat(np.expand_dims(S0_tumor_TE2,axis=0),dyn,axis=0)\n",
    "\n",
    "S0_NAWM_TE1 = np.nanmean(NAWM_SIt[0,basepts[0]:basepts[1]],axis=-1)\n",
    "S0_NAWM_TE1 = np.repeat(np.expand_dims(S0_NAWM_TE1,axis=0),dyn,axis=0)\n",
    "S0_NAWM_TE2 = np.nanmean(NAWM_SIt[1,basepts[0]:basepts[1]],axis=-1)\n",
    "S0_NAWM_TE2 = np.repeat(np.expand_dims(S0_NAWM_TE2,axis=0),dyn,axis=0)\n",
    "\n",
    "S0_AIF_TE1 = np.nanmean(AIF_SIt[0,basepts[0]:basepts[1]],axis=-1)\n",
    "S0_AIF_TE2 = np.nanmean(AIF_SIt[1,basepts[0]:basepts[1]],axis=-1)\n",
    "\n",
    "# Compute non-leakage corrected ∆R2* curves - Tumor\n",
    "dR2s_tumor_TE1 = (-(1/TE1)) * (np.log(np.divide(tumor_SIt[0,:],S0_tumor_TE1)))\n",
    "dR2s_tumor_TE2 = (-(1/TE2)) * (np.log(np.divide(tumor_SIt[1,:],S0_tumor_TE2)))\n",
    "dR2s_tumor_DE = (1/(TE2 - TE1)) * (np.log(np.divide(np.divide(tumor_SIt[0,:],S0_tumor_TE1),np.divide(tumor_SIt[1,:],S0_tumor_TE2))))\n",
    "dR2s_tumor_DE[dR2s_tumor_DE == np.inf] = 0.\n",
    "dR2s_tumor_DE[dR2s_tumor_DE == -np.inf] = 0.\n",
    "\n",
    "# Compute ∆R2* curves - NAWM\n",
    "dR2s_NAWM_TE1 = (-(1/TE1)) * (np.log(np.divide(NAWM_SIt[0,:],S0_NAWM_TE1)))\n",
    "dR2s_NAWM_TE2 = (-(1/TE2)) * (np.log(np.divide(NAWM_SIt[1,:],S0_NAWM_TE2)))\n",
    "dR2s_NAWM_DE = (1/(TE2-TE1)) * (np.log(np.divide(np.divide(NAWM_SIt[0,:],S0_NAWM_TE1),np.divide(NAWM_SIt[1,:],S0_NAWM_TE2))))\n",
    "dR2s_NAWM_DE[dR2s_NAWM_DE == np.inf] = 0.\n",
    "dR2s_NAWM_DE[dR2s_NAWM_DE == -np.inf] = 0. \n",
    "\n",
    "#Compute ∆R2* curves - AIF\n",
    "dR2s_AIF = (-(1/TE2)) * (np.log(np.divide(AIF_SIt[1,:],S0_AIF_TE2)))\n",
    "\n",
    "# Plot ∆R2* curves\n",
    "plt.plot(np.transpose(dR2s_tumor_TE1),label='Tumor TE1')\n",
    "plt.xlabel('Time (s)', fontsize=16)\n",
    "plt.ylabel('$\\Delta R_2^*$ ($s^{-1}$)', fontsize=16)\n",
    "plt.legend()\n",
    "\n",
    "plt.plot(np.transpose(dR2s_tumor_TE2),label='Tumor TE2')\n",
    "plt.xlabel('Time (s)', fontsize=16)\n",
    "plt.ylabel('$\\Delta R_2^*$ ($s^{-1}$)', fontsize=16)\n",
    "plt.legend()\n",
    "\n",
    "plt.plot(np.transpose(dR2s_tumor_DE),label='Tumor DE')\n",
    "plt.xlabel('Time (s)', fontsize=16)\n",
    "plt.ylabel('$\\Delta R_2^*$ ($s^{-1}$)', fontsize=16)\n",
    "plt.legend()\n"
   ]
  },
  {
   "cell_type": "markdown",
   "metadata": {},
   "source": [
    "In the above graph, notice the $T_1$ leakage effects in both echo times of the $\\Delta R_2^*(t)$. If CBV were to be computed now, the values would be negative and thus physiologically impossible. However, these $T_1$ leakage effects are not seen in the dual-echo equation (but note that a dual echo $\\Delta R_2^*(t)$ may still have competing $T_2^*$ effects). If a conventional single-echo EPI had been done, leakage correction would need to be applied.\n",
    "\n",
    "#### 3.2 Apply Leakage Correction. \n",
    "Here we apply the Boxerman-Schmainda-Weiskoff leakage correction method that accounts for both $T_1$ and $T2^*$ effects. We will apply it to 1) $\\Delta R_2^*(t)$ at $TE_2$ (this represents a conventional EPI acquisition time) and 2) the dual-echo $\\Delta R_2^*(t)$ to correct for possible $T_2^*$ leakage effects. Note that only the tumor pixels are corrected for leakage and the NAWM is usually assumed to have an intact BBB."
   ]
  },
  {
   "cell_type": "code",
   "execution_count": 6,
   "metadata": {
    "scrolled": true
   },
   "outputs": [
    {
     "data": {
      "image/png": "[encoded data removed]",
      "text/plain": [
       "<Figure size 432x288 with 1 Axes>"
      ]
     },
     "metadata": {
      "needs_background": "light"
     },
     "output_type": "display_data"
    }
   ],
   "source": [
    "# Leakage corrected delta R2 star curves\n",
    "dR2s_tumor_WBNE = dR2s_NAWM_DE \n",
    "\n",
    "# Define the Boxerman, Schmainda and Weisskoff leakage correction function\n",
    "def BSWfunction(X,k1,k2):\n",
    "    dR2s_tumor_WBNE,dR2s_WBNEint = X\n",
    "    return k1*dR2s_tumor_WBNE - k2*dR2s_WBNEint\n",
    "\n",
    "# Initial Guess\n",
    "p0 = 1.,0.\n",
    "\n",
    "# Initialize the fit variables\n",
    "K1_dR2s = np.zeros([nx*ny*nz])\n",
    "K2_dR2s = np.zeros([nx*ny*nz])\n",
    "dR2s_BSW = np.zeros([nx*ny*nz,dyn])\n",
    "\n",
    "int_dR2stumorWBNE = np.cumsum(dR2s_tumor_WBNE)\n",
    "tmp_dR2s = dR2s_tumor_DE[:,basepts[0]:]\n",
    "dR2s_tumor_WBNE_abr = dR2s_tumor_WBNE[basepts[0]:]\n",
    "int_dR2stumorWBNE_abr = int_dR2stumorWBNE[basepts[0]:]\n",
    "\n",
    "for x in range(nx*ny*nz):\n",
    "    x1dat = dR2s_tumor_WBNE_abr[0,:]\n",
    "    x2dat = int_dR2stumorWBNE_abr\n",
    "    ydat = tmp_dR2s[0,:]\n",
    "    BSW_kvals,BSW_fitcov = curve_fit(BSWfunction,(x1dat,x2dat),ydat,p0);\n",
    "    K1_dR2s[x] = BSW_kvals[0];\n",
    "    K2_dR2s[x] = BSW_kvals[1];\n",
    "    leakage = np.multiply((-K2_dR2s[x]),int_dR2stumorWBNE_abr);\n",
    "    dR2s_tumor_BSW[x,:] = np.pad(np.transpose(tmp_dR2s[x,:] - leakage),(basepts[0],0),'constant',constant_values = (0,0))\n",
    "\n",
    "# Generate ∆R2* plots\n",
    "plt.plot(np.transpose(dR2s_tumor_DE),label='Tumor DE')\n",
    "plt.xlabel('Time (s)', fontsize=16)\n",
    "plt.ylabel('$\\Delta R_2^*$ ($s^{-1}$)', fontsize=16)\n",
    "plt.legend()\n",
    "\n",
    "plt.plot(np.transpose(dR2s_tumor_BSW),label='Tumor BSW')\n",
    "plt.xlabel('Time (s)', fontsize=16)\n",
    "plt.ylabel('$\\Delta R_2^*$ ($s^{-1}$)', fontsize=16)\n",
    "plt.legend()\n",
    "\n",
    "plt.show()\n",
    "\n"
   ]
  },
  {
   "cell_type": "markdown",
   "metadata": {},
   "source": [
    "#### 3.3 Compute DSC Parameters: CBV, CBF, MTT\n",
    "Computing the DSC parameters involves performing a deconvolution through two analysis steps. The first step in performing deconvolution is the discretization of the AIF. A detailed comparison of some of the discretization methods implemented in literature has been provided by Soubron et al. (DOI:10.1088/0031-9155/52/22/014) -- including those they are less sensitive to AIF delay and dispersion. The second step is the regularization choice to ensure both a mathematically and physiological result is found as described by Sourbon et al. (DOI:10.1088/0031-9155/52/2/009). Based on these articles, we have implemented a Volterra discretization with L-curve criterion for regularization to demonstrate derivation of of the residue function needed for CBF and MTT calculations.\n",
    "\n",
    "- CBF is numerically calculated as the maximum value of the tissue residue function $R(t)$, where $R(t)$ is related to the tissue concentration $C(t)$, and the AIF $C_a(t)$ by: $C(t)$ = $F.C_a(t) * R(t)$\n",
    "- CBV is numerically calculated as the area under the curve of the $\\Delta R_2^*$ time curve\n",
    "- MTT is numerically calculated as the ratio of CBV and CBF\n",
    "\n",
    "\n",
    "Notes:\n",
    " - While calculating CBF, tissue concentration is linearly dependent on $\\Delta R_2^*$. We have assumed that the constant of proportionality is 1. Therefore, the AIF and tumor $\\Delta R_2^*$ values are used to compute tissue residue function R(t)\n"
   ]
  },
  {
   "cell_type": "code",
   "execution_count": 10,
   "metadata": {},
   "outputs": [
    {
     "name": "stdout",
     "output_type": "stream",
     "text": [
      "CBF = 291.53490401339747 mL/100 mL/min\n",
      "CBV = [35.15229246] %\n",
      "MTT = [7.23459702] sec\n"
     ]
    }
   ],
   "source": [
    "# Initialization of variables\n",
    "tissue_Ct = dR2s_tumor_BSW[0,:]\n",
    "aif_Ct = dR2s_AIF[0,:]\n",
    "tpts = aif_Ct.size \n",
    "A_mtx = np.zeros([tpts,tpts])\n",
    "dt = 1.5                        # in seconds\n",
    "\n",
    "# Volterra Discretization\n",
    "for i in range(tpts):\n",
    "    for j in range(tpts):\n",
    "        if j == 0 and i != 0:\n",
    "            A_mtx[i,j] = (2 * aif_Ct[i] + aif_Ct[i-1])/6.\n",
    "        elif i == j:\n",
    "            A_mtx[i,j] = (2 * aif_Ct[0] + aif_Ct[1])/6.\n",
    "        elif 0<j and j<i:\n",
    "            A_mtx[i,j] = ((2 * aif_Ct[i-j] + aif_Ct[i-j-1])/6) +((2 * aif_Ct[i-j] + aif_Ct[i-j+1])/6)\n",
    "        else:\n",
    "            A_mtx[i,j] = 0.\n",
    "\n",
    "\n",
    "# Perform singular value decomposition (SVD)\n",
    "A_mtx = dt * A_mtx\n",
    "B0 = tissue_Ct\n",
    "\n",
    "U,S,V = svd(A_mtx)\n",
    "S_d = np.diag(S)\n",
    "B = np.transpose(U) @ B0\n",
    "\n",
    "# Start LCCREGPAR\n",
    "# Create vector 'u' as per Equation 11 in DOI:10.1088/0031-9155/52/2/009\n",
    "umax = 10.\n",
    "umin = 10E-10\n",
    "nu = 400\n",
    "k = np.arange(nu)\n",
    "u = np.amax(S) * umin * np.power((umax/umin),((k-1)/(nu-1)))\n",
    "\n",
    "l_0 = np.zeros([nu,A_mtx[:,0].size])\n",
    "l_1 = np.zeros([nu,A_mtx[:,0].size])\n",
    "l_2 = np.zeros([nu,A_mtx[:,0].size])\n",
    "L = np.zeros([nu,A_mtx[:,0].size,3])\n",
    "for x in range(nu):\n",
    "    for y in range(A_mtx[:,0].size):\n",
    "        l_0[x,y] = np.power((np.power(u[x],2) / (np.power(S[y],2) + np.power(u[x],2))),2)\n",
    "        l_1[x,y] = np.power((S[y] / (np.power(S[y],2) + np.power(u[x],2))),2)\n",
    "        l_2[x,y] = ((-4)*u[x]*np.power(S[y],2)) / np.power((np.power(S[y],2) + np.power(u[x],2)),3)\n",
    "        \n",
    "L[:,:,0] = l_0\n",
    "L[:,:,1] = l_1\n",
    "L[:,:,2] = l_2\n",
    "\n",
    "# Start LCCOPTIMIZE\n",
    "k = (nu - 1)-1\n",
    "m = np.zeros([nu,3])\n",
    "product = np.zeros(A_mtx[:,0].size)\n",
    "L_curve = np.zeros(nu)\n",
    "\n",
    "for x in range(A_mtx[:,0].size):\n",
    "    U_i = U[:,x]\n",
    "    product[x] = np.power((np.transpose(U_i) @ B),2)\n",
    "    \n",
    "for x in range(3):\n",
    "    l_tmp = L[:,:,x]\n",
    "    m[:,x] = np.sum(l_tmp,axis=1)*np.sum(product)\n",
    "\n",
    "for x in range(nu):\n",
    "    L_curve[x] = 2 * (m[x,1] * m[x,0] / m[x,2]) * ((np.power(u[x],2) * m[x,2] * m[x,0] + 2 * u[x] * m[x,1] *m[x,0] + \n",
    "                                                    np.power(u[x],4) * m[x,1] * m[x,2]) / np.power((np.power(u[x],4) * \n",
    "                                                    np.power(m[x,1],2) + np.power(m[x,0],2)),(3/2)));\n",
    "                                                    \n",
    "L_minus1 = L_curve[k-2]\n",
    "L_0 = L_curve[k-1]\n",
    "L_1 = L_curve[k]\n",
    "\n",
    "while L_0 >= L_minus1 or L_0 >= L_1:\n",
    "    k = k - 1\n",
    "    if k == 0:\n",
    "        mu_opt = umax\n",
    "        break\n",
    "    \n",
    "    L_1 = L_0\n",
    "    L_0 = L_minus1\n",
    "    L_minus1 = L_curve[k-1]\n",
    "    mu_opt = u[k-1]\n",
    "\n",
    "if mu_opt < 11:\n",
    "    mu_opt = 100\n",
    "    \n",
    "Bpi = np.multiply(B,np.divide(S,(np.power(S,2) + np.power(mu_opt,2))))\n",
    "Bfinal = np.transpose(V) @ Bpi\n",
    "PBF = np.amax(Bfinal)*100*60\n",
    "PBV = np.sum(tissue_Ct)/np.sum(aif_Ct)*100\n",
    "residualFunction = np.transpose(Bfinal)\n",
    "\n",
    "# Calculate CBF, CBV and MTT\n",
    "CBF = np.amax(residualFunction)/dt * 60 * 100 # in mL/100mL/min\n",
    "CBV = np.divide(np.trapz(dR2s_tumor_BSW),np.trapz(dR2s_AIF)) * 100 # as a %\n",
    "MTT = np.divide(CBV,CBF) * 60 # in seconds\n",
    "\n",
    "print('CBF = '+str(CBF)+' mL/100 mL/min')\n",
    "print('CBV = '+str(CBV)+' %')\n",
    "print('MTT = '+str(MTT)+' sec')\n"
   ]
  },
  {
   "cell_type": "markdown",
   "metadata": {},
   "source": [
    "### 4. Do DCE Analysis ($K^{trans}$, $v_e$)\n",
    "#### 4.1 Calculate $\\Delta R_1(t)$ and concentration $C_t$"
   ]
  },
  {
   "cell_type": "code",
   "execution_count": 11,
   "metadata": {},
   "outputs": [
    {
     "data": {
      "image/png": "[encoded data removed]",
      "text/plain": [
       "<Figure size 432x288 with 1 Axes>"
      ]
     },
     "metadata": {
      "needs_background": "light"
     },
     "output_type": "display_data"
    }
   ],
   "source": [
    "R2s = (1/(TE2 - TE1)) * (np.log(np.divide(tumor_SIt[0,:],tumor_SIt[1,:])))\n",
    "SI_TE0 = np.multiply(tumor_SIt[0,:],np.exp(TE1*R2s))\n",
    "SB_TE0 = np.repeat(np.expand_dims(np.mean(SI_TE0[:,basepts[0]:basepts[1]],axis=-1),axis=-1),dyn,axis=-1)\n",
    "\n",
    "R10 = np.divide(1.,tumor_T1)\n",
    "S0_term1 = np.subtract(np.multiply(np.multiply(np.exp((-R10)*TR),np.cos(np.deg2rad(flip))), SB_TE0[:,0]), SB_TE0[:,0])\n",
    "S0 = np.divide(np.divide(S0_term1, np.sin(np.deg2rad(flip))), np.subtract(np.exp((-R10)*TR),1.))\n",
    "S0_t = np.repeat(S0,dyn,axis=-1)\n",
    "\n",
    "\n",
    "a = np.subtract(np.sin(np.deg2rad(flip))*S0_t[0,:], SI_TE0)\n",
    "b = np.subtract(np.sin(np.deg2rad(flip))*S0_t[0,:], np.cos(np.deg2rad(flip))*SI_TE0)\n",
    "c = np.subtract(np.sin(np.deg2rad(flip))*S0_t[0,:], np.cos(np.deg2rad(flip))*SB_TE0)\n",
    "d = np.subtract(np.sin(np.deg2rad(flip))*S0_t[0,:], SB_TE0)\n",
    "\n",
    "dR1 = np.multiply((-(1./TR)),np.log(np.multiply(np.divide(a,b),np.divide(c,d))))\n",
    "dR1[np.isinf(dR1)] = 0.\n",
    "dR1[np.isnan(dR1)] = 0.\n",
    "dR1[np.isreal(dR1)==False] = 0.\n",
    "\n",
    "imag_indices = np.imag(dR1)\n",
    "dR1[imag_indices !=0] = 0.\n",
    "\n",
    "SI_TE0_reshape = np.reshape(SI_TE0,(1,dyn))\n",
    "\n",
    "# Concentration curves Ct calculated from ∆R1(t)\n",
    "tumor_Ct = np.divide(dR1,r1)\n",
    "\n",
    "test1 = np.divide(a,b)\n",
    "test2 = np.divide(c,d)\n",
    "test3 = np.multiply(test1,test2)\n",
    "test = np.log(test3)\n",
    "plt.plot(tumor_Ct[0,:],label='Tumor')\n",
    "plt.xlabel('Time (s)', fontsize=16)\n",
    "plt.ylabel('$C_t$ ($mM$)', fontsize=16)\n",
    "plt.legend()\n",
    "plt.show()\n",
    "\n"
   ]
  },
  {
   "cell_type": "code",
   "execution_count": 9,
   "metadata": {},
   "outputs": [
    {
     "ename": "NameError",
     "evalue": "name 'X' is not defined",
     "output_type": "error",
     "traceback": [
      "\u001b[0;31m---------------------------------------------------------------------------\u001b[0m",
      "\u001b[0;31mNameError\u001b[0m                                 Traceback (most recent call last)",
      "\u001b[0;32m<ipython-input-9-b5fec669aca1>\u001b[0m in \u001b[0;36m<module>\u001b[0;34m\u001b[0m\n\u001b[0;32m----> 1\u001b[0;31m \u001b[0mX\u001b[0m\u001b[0;34m\u001b[0m\u001b[0;34m\u001b[0m\u001b[0m\n\u001b[0m",
      "\u001b[0;31mNameError\u001b[0m: name 'X' is not defined"
     ]
    }
   ],
   "source": [
    "X"
   ]
  },
  {
   "cell_type": "markdown",
   "metadata": {},
   "source": [
    "#### 4.2 Fit Standard Tofts Model"
   ]
  },
  {
   "cell_type": "code",
   "execution_count": 12,
   "metadata": {},
   "outputs": [
    {
     "name": "stdout",
     "output_type": "stream",
     "text": [
      "ktrans: 0.0024254909193441735\n",
      "ve: 0.1896963894505473\n"
     ]
    },
    {
     "data": {
      "image/png": "[encoded data removed]",
      "text/plain": [
       "<Figure size 432x288 with 1 Axes>"
      ]
     },
     "metadata": {
      "needs_background": "light"
     },
     "output_type": "display_data"
    }
   ],
   "source": [
    "# Pre-define fit preferences for the Toft's model\n",
    "pref = {\n",
    "        'lower_limit_ktrans': 1.E-7,\n",
    "        'upper_limit_ktrans': 2.,\n",
    "        'initial_value_ktrans': 2.E-4,\n",
    "        'lower_limit_ve': 0.0200,\n",
    "        'upper_limit_ve': 1.,\n",
    "        'initial_value_ve': 0.2,\n",
    "        'lower_limit_vp': 1.E-3,\n",
    "        'upper_limit_vp': 1.,\n",
    "        'initial_value_vp': 0.02,\n",
    "        'TolFun': 1.E-12,\n",
    "        'TolX': 1.E-6,\n",
    "        'MaxIter': 50,\n",
    "        'MaxFunEvals': 50,\n",
    "        'Robust': 'off',\n",
    "       }\n",
    "# Perform the fit using Toft's model\n",
    "timer = 1.5*np.arange(121)\n",
    "def modeltofts(X, Ktrans, ve):\n",
    "    Cp, time_tau = X\n",
    "    Ct = np.zeros_like(time_tau)\n",
    "    for tau in range(time_tau.size):\n",
    "        t = time_tau[0:tau+1]\n",
    "        Cp_t = Cp[0:tau+1]\n",
    "        F = Cp_t * np.exp((-Ktrans / ve) * (t[-1] - t))\n",
    "        if tau == 0:\n",
    "            M = 0\n",
    "        else:\n",
    "            M = np.trapz(F, t)\n",
    "        Ct[tau] = Ktrans * M\n",
    "    return Ct\n",
    "\n",
    "p0 = pref['initial_value_ktrans'],pref['initial_value_ve']\n",
    "x1dat = AIF_Ct[0,:]\n",
    "x2dat = timer\n",
    "tofts_fitval,tofts_fitcov = scipy.optimize.curve_fit(modeltofts,(x1dat,x2dat),tumor_Ct[0,:],p0,\n",
    "                                                    bounds=([pref['lower_limit_ktrans'],pref['lower_limit_ve']],\n",
    "                                                    [pref['upper_limit_ktrans'],pref['upper_limit_ve']]),\n",
    "                                                    method='trf',xtol=pref['TolX'],ftol=pref['TolFun'], max_nfev=pref['MaxFunEvals'])\n",
    "\n",
    "print('ktrans: '+str(tofts_fitval[0]))\n",
    "print('ve: '+str(tofts_fitval[1]))\n",
    "fit_tmp = modeltofts((AIF_Ct[0,:],timer),tofts_fitval[0],tofts_fitval[1])\n",
    "\n",
    "\n",
    "plt.plot(tumor_Ct[0,:],label='Measured')\n",
    "plt.plot(fit_tmp,label='Tofts Fit')\n",
    "plt.xlabel('Time (s)', fontsize=16)\n",
    "plt.ylabel('$C_t$ ($mM$)', fontsize=16)\n",
    "plt.legend()\n",
    "plt.show()\n"
   ]
  },
  {
   "cell_type": "code",
   "execution_count": null,
   "metadata": {},
   "outputs": [],
   "source": [
    "timer = 1.5*np.arange(121)\n",
    "def modeltofts(X,Ktrans,ve):\n",
    "    count=0\n",
    "    Cp,time_tau = X\n",
    "    Ct = np.zeros(time_tau.size)\n",
    "    for tau in range(time_tau.size):\n",
    "        t = time_tau[0:tau+1]\n",
    "        Cp_t = Cp[0:tau+1]\n",
    "        F = np.multiply(Cp_t,np.exp(np.multiply(np.divide((-Ktrans),ve),(np.subtract(t[-1],t)))))\n",
    "        if t.size == 1:\n",
    "            M = 0\n",
    "        else:\n",
    "            M = np.trapz(t,F)\n",
    "        Ct[tau] = np.multiply(Ktrans,M)\n",
    "    #print(F.shape)\n",
    "    plt.plot(F)\n",
    "    plt.show()\n",
    "    Ct = np.transpose(Ct)\n",
    "    return Ct\n",
    "fit_tmp = modeltofts((AIF_Ct[0,:],timer),0.022,0.188)"
   ]
  }
 ],
 "metadata": {
  "kernelspec": {
   "display_name": "Python 3",
   "language": "python",
   "name": "python3"
  },
  "language_info": {
   "codemirror_mode": {
    "name": "ipython",
    "version": 3
   },
   "file_extension": ".py",
   "mimetype": "text/x-python",
   "name": "python",
   "nbconvert_exporter": "python",
   "pygments_lexer": "ipython3",
   "version": "3.7.7"
  }
 },
 "nbformat": 4,
 "nbformat_minor": 4
}
